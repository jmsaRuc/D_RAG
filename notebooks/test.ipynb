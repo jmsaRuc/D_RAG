{
 "cells": [
  {
   "cell_type": "code",
   "execution_count": null,
   "metadata": {},
   "outputs": [],
   "source": [
    "!curl --request GET --url host.docker.internal:21434/api/tags"
   ]
  },
  {
   "cell_type": "code",
   "execution_count": null,
   "metadata": {},
   "outputs": [],
   "source": [
    "from langchain_ollama import ChatOllama\n",
    "\n",
    "### llm \n",
    "local_llm=\"deepseek-r1:1.5b-qwen-distill-fp16\"\n",
    "llm = ChatOllama(model=local_llm, temperature=0, base_url=\"http://host.docker.internal:21434\")\n",
    "llm_json = ChatOllama(model=local_llm, temperature=0, return_json=True, base_url=\"http://host.docker.internal:21434\")"
   ]
  },
  {
   "cell_type": "code",
   "execution_count": null,
   "metadata": {},
   "outputs": [],
   "source": [
    "msg = llm.invoke(\"What is the capital of France?\")\n",
    "msg.content"
   ]
  },
  {
   "cell_type": "markdown",
   "metadata": {},
   "source": [
    "__________________"
   ]
  },
  {
   "cell_type": "markdown",
   "metadata": {},
   "source": [
    "# GROQ test"
   ]
  },
  {
   "cell_type": "code",
   "execution_count": null,
   "metadata": {},
   "outputs": [],
   "source": [
    "import os\n",
    "\n",
    "from groq import Groq\n",
    "from dotenv import load_dotenv\n",
    "load_dotenv(\"../../groq.env\")\n"
   ]
  },
  {
   "cell_type": "code",
   "execution_count": null,
   "metadata": {},
   "outputs": [],
   "source": [
    "client = Groq(\n",
    "    # This is the default and can be omitted\n",
    "    api_key=os.getenv(\"GROQ_API_KEY\"),\n",
    ")"
   ]
  },
  {
   "cell_type": "code",
   "execution_count": null,
   "metadata": {},
   "outputs": [],
   "source": [
    "model_name = os.getenv(\"GROQ_LLM\")\n",
    "chat_completion = client.chat.completions.create(\n",
    "    messages=[\n",
    "        {\n",
    "            \"role\": \"system\",\n",
    "            \"content\": \"you are a helpful assistant.\"\n",
    "        },\n",
    "        {\n",
    "            \"role\": \"user\",\n",
    "            \"content\": \"Explain the importance of fast language models\",\n",
    "        }\n",
    "    ],\n",
    "    model=model_name,\n",
    "    reasoning_format={\"type\": \"groq\"},\n",
    "    temperature=0.6,\n",
    "    max_completion_tokens=131072,\n",
    "    top_p=0.95,\n",
    "    stream=True,\n",
    "    stop=None,\n",
    "    \n",
    ")"
   ]
  },
  {
   "cell_type": "code",
   "execution_count": null,
   "metadata": {},
   "outputs": [],
   "source": [
    "\n",
    "for chunk in chat_completion:\n",
    "    print(chunk.choices[0].delta.content or \"\", end=\"\")"
   ]
  },
  {
   "cell_type": "markdown",
   "metadata": {},
   "source": [
    "__________"
   ]
  },
  {
   "cell_type": "markdown",
   "metadata": {},
   "source": [
    "\n",
    "# GROQ langchain test"
   ]
  },
  {
   "cell_type": "code",
   "execution_count": null,
   "metadata": {},
   "outputs": [],
   "source": [
    "import os\n",
    "from langchain_groq import ChatGroq\n",
    "from langchain_core.messages import HumanMessage, SystemMessage\n",
    "from ollama_deep_researcher.prompts import (\n",
    "    query_writer_instructions,\n",
    "    summarizer_instructions,\n",
    "    reflection_instructions,\n",
    "    get_current_date,\n",
    ")\n",
    "from dotenv import load_dotenv\n",
    "load_dotenv(\"../../groq.env\")\n",
    "os.environ[\"GROQ_API_KEY\"] = os.getenv(\"GROQ_API_KEY\")\n",
    "model_name = os.getenv(\"GROQ_LLM\")"
   ]
  },
  {
   "cell_type": "code",
   "execution_count": null,
   "metadata": {},
   "outputs": [],
   "source": [
    "current_date = get_current_date()\n",
    "formatted_prompt = query_writer_instructions.format(\n",
    "        current_date=current_date, research_topic=\"fast language models\"\n",
    "    )"
   ]
  },
  {
   "cell_type": "code",
   "execution_count": null,
   "metadata": {},
   "outputs": [],
   "source": [
    "llm = ChatGroq(\n",
    "    model=model_name,\n",
    "    temperature=0,\n",
    "    response_format={\"type\": \"json_object\"},\n",
    ")\n",
    "#llm_json_mode = llm.with_structured_output(method=\"json_mode\")"
   ]
  },
  {
   "cell_type": "code",
   "execution_count": null,
   "metadata": {},
   "outputs": [],
   "source": [
    "result = llm_json_mode.invoke(\n",
    "    [\n",
    "        SystemMessage(content=formatted_prompt),\n",
    "        HumanMessage(content=f\"Generate a query for web search:\"),\n",
    "    ]\n",
    ")"
   ]
  },
  {
   "cell_type": "code",
   "execution_count": null,
   "metadata": {},
   "outputs": [],
   "source": [
    "result2 = llm.invoke(\n",
    "    [\n",
    "        SystemMessage(content=formatted_prompt),\n",
    "        HumanMessage(content=f\"Generate a query for web search:\"),\n",
    "    ]\n",
    ")"
   ]
  },
  {
   "cell_type": "code",
   "execution_count": null,
   "metadata": {},
   "outputs": [],
   "source": [
    "print(result2.content)"
   ]
  },
  {
   "cell_type": "markdown",
   "metadata": {},
   "source": [
    "_____"
   ]
  },
  {
   "cell_type": "markdown",
   "metadata": {},
   "source": [
    "# tavily test (Used for making the crawler search)"
   ]
  },
  {
   "cell_type": "code",
   "execution_count": null,
   "metadata": {},
   "outputs": [],
   "source": [
    "import os\n",
    "from ollama_deep_researcher.utils import (\n",
    "    deduplicate_and_format_sources,\n",
    "    tavily_search,\n",
    "    format_sources,\n",
    ")\n",
    "from dotenv import load_dotenv\n",
    "load_dotenv(\"../../.env\")\n",
    "os.environ[\"TAVILY_API_KEY\"] = os.getenv(\"TAVILY_API_KEY\")"
   ]
  },
  {
   "cell_type": "code",
   "execution_count": null,
   "metadata": {},
   "outputs": [],
   "source": [
    "search_results = tavily_search(\"what is the capital of France?\", fetch_full_page=True, max_results=3)"
   ]
  },
  {
   "cell_type": "code",
   "execution_count": null,
   "metadata": {},
   "outputs": [],
   "source": [
    "search_results"
   ]
  },
  {
   "cell_type": "code",
   "execution_count": null,
   "metadata": {},
   "outputs": [],
   "source": [
    "search_str = deduplicate_and_format_sources(\n",
    "            search_results,\n",
    "            max_tokens_per_source=10000000,\n",
    "            fetch_full_page=True,\n",
    "        )"
   ]
  },
  {
   "cell_type": "code",
   "execution_count": null,
   "metadata": {},
   "outputs": [],
   "source": [
    "print(search_str)"
   ]
  },
  {
   "cell_type": "markdown",
   "metadata": {},
   "source": [
    "_______"
   ]
  },
  {
   "cell_type": "markdown",
   "metadata": {},
   "source": [
    "# Test rets_info_scraper and translate"
   ]
  },
  {
   "cell_type": "code",
   "execution_count": null,
   "metadata": {},
   "outputs": [],
   "source": [
    "from ollama_deep_researcher.retsinfo_crawl import retsinfo_search_and_crawl, retsinfo_search, extract_ids, main_crawl, sort_after_crawl\n",
    "from ollama_deep_researcher.translate_async import deduplicate_translate_and_format_sources\n",
    "from langchain_groq import ChatGroq\n",
    "from ollama_deep_researcher.state import SummaryState\n"
   ]
  },
  {
   "cell_type": "code",
   "execution_count": null,
   "metadata": {},
   "outputs": [],
   "source": [
    "\n",
    "if __name__ == \"__main__\":\n",
    "    search_r = await retsinfo_search(\"hovedforhandling formål afklaring parternes krav påstande forhandling\", max_results=3, state=SummaryState)"
   ]
  },
  {
   "cell_type": "code",
   "execution_count": null,
   "metadata": {},
   "outputs": [],
   "source": [
    "search_r"
   ]
  },
  {
   "cell_type": "code",
   "execution_count": null,
   "metadata": {},
   "outputs": [],
   "source": [
    "if __name__ == \"__main__\":\n",
    "    id_url_pari = await extract_ids(search_r)"
   ]
  },
  {
   "cell_type": "code",
   "execution_count": null,
   "metadata": {},
   "outputs": [],
   "source": [
    "id_url_pari"
   ]
  },
  {
   "cell_type": "code",
   "execution_count": null,
   "metadata": {},
   "outputs": [],
   "source": [
    "if __name__ == \"__main__\":\n",
    "    crawl_r = await main_crawl(id_url_pari, \"hovedforhandling formål afklaring parternes krav påstande forhandling\")"
   ]
  },
  {
   "cell_type": "code",
   "execution_count": null,
   "metadata": {},
   "outputs": [],
   "source": [
    "crawl_r[57411].error_message"
   ]
  },
  {
   "cell_type": "code",
   "execution_count": null,
   "metadata": {},
   "outputs": [],
   "source": [
    "if __name__ == \"__main__\":\n",
    "   sort_r = await sort_after_crawl(search_r, crawl_r)"
   ]
  },
  {
   "cell_type": "code",
   "execution_count": null,
   "metadata": {},
   "outputs": [],
   "source": [
    "print(sort_r[221725])"
   ]
  },
  {
   "cell_type": "code",
   "execution_count": null,
   "metadata": {},
   "outputs": [],
   "source": [
    "\n",
    "if __name__ == \"__main__\":\n",
    "    # Load environment variables from .env file\n",
    "   result = await retsinfo_search_and_crawl(query=\"hovedforhandling formål afklaring parternes krav påstande forhandling retssag\", max_results=3, state=SummaryState)\n",
    "    "
   ]
  },
  {
   "cell_type": "code",
   "execution_count": null,
   "metadata": {},
   "outputs": [],
   "source": [
    "for r in result[\"results\"]:\n",
    "    print(r[\"ex_content\"])\n",
    "    for t in r:\n",
    "        print(r[\"ex_content\"])"
   ]
  },
  {
   "cell_type": "code",
   "execution_count": null,
   "metadata": {},
   "outputs": [],
   "source": [
    "llm_translate_s = ChatGroq(\n",
    "    model=\"deepseek-r1-distill-llama-70b\",\n",
    "    temperature=0,\n",
    "    max_tokens=64000,\n",
    "    service_tier=\"auto\"\n",
    "        )"
   ]
  },
  {
   "cell_type": "code",
   "execution_count": null,
   "metadata": {},
   "outputs": [],
   "source": [
    "if __name__ == \"__main__\":\n",
    "    search_str_en, saved_first_en = await deduplicate_translate_and_format_sources(result, llm_translate_s, 64000)"
   ]
  },
  {
   "cell_type": "code",
   "execution_count": null,
   "metadata": {},
   "outputs": [],
   "source": [
    "print(search_str_en)"
   ]
  },
  {
   "cell_type": "markdown",
   "metadata": {},
   "source": [
    "_____\n",
    "\n",
    "# misc."
   ]
  },
  {
   "cell_type": "markdown",
   "metadata": {},
   "source": [
    "test qurry\n",
    "```sh \n",
    "Lav en liste over hvad Justitsministeren kan fastsætte, I den juridiske contexten indsamlinger?\n",
    "```"
   ]
  },
  {
   "cell_type": "code",
   "execution_count": null,
   "metadata": {},
   "outputs": [],
   "source": [
    "array = [1,2]\n",
    "\n",
    "array.append(3)\n",
    "\n",
    "array[-2]"
   ]
  },
  {
   "cell_type": "markdown",
   "metadata": {},
   "source": [
    "params = {\"dt\":[10,1480,20,30,40,50,90,120,270,60,100,80,110,130,140,150,160,170,180,200,210,220,1510,1490,-10,230,240,250,260,980]}"
   ]
  },
  {
   "cell_type": "code",
   "execution_count": null,
   "metadata": {},
   "outputs": [],
   "source": [
    "from langchain_openai import ChatOpenAI\n",
    "from langchain_core.messages import HumanMessage, SystemMessage\n",
    "from dotenv import load_dotenv\n",
    "import os\n",
    "load_dotenv(\"../../.env\")\n",
    "os.environ[\"OPENAI_API_KEY\"] = os.getenv(\"OPENAI_API_KEY\")\n",
    "model_name = os.getenv(\"OPENAI_MODEL\")\n",
    "base_url = os.getenv(\"OPENAI_BASE_URL\")"
   ]
  },
  {
   "cell_type": "code",
   "execution_count": null,
   "metadata": {},
   "outputs": [],
   "source": [
    "llm_translate_q = ChatOpenAI(\n",
    "    model=model_name,\n",
    "    base_url=base_url,\n",
    "    temperature=1,\n",
    "    max_tokens=12000,\n",
    ")"
   ]
  },
  {
   "cell_type": "code",
   "execution_count": null,
   "metadata": {},
   "outputs": [],
   "source": [
    "result = await llm_translate_q.ainvoke(\n",
    "    [\n",
    "        SystemMessage(content=\"you are a helpful assistant\"),\n",
    "        HumanMessage(content=\"what is the capital of France?\"),\n",
    "    ]\n",
    ")"
   ]
  },
  {
   "cell_type": "code",
   "execution_count": null,
   "metadata": {},
   "outputs": [],
   "source": [
    "text = \"\"\"Lov om indsamling m.v.\n",
    "VI MARGRETHE DEN ANDEN, af Guds Nåde Danmarks Dronning, gør vitterligt:\n",
    "Folketinget har vedtaget og Vi ved Vort samtykke stadfæstet følgende lov:\n",
    "Kapitel 1\n",
    "Lovens anvendelsesområde\n",
    "§ 1. Denne lov finder anvendelse på indsamlinger, hvorved forstås enhver form for opfordring til at yde bidrag til et forud angivet formål.\n",
    "Stk. 2. § 8 og § 11, stk. 3, finder tilsvarende anvendelse for hjælpeorganisationers hvervning af medlemmer ved personlig eller telefonisk henvendelse.\n",
    "Stk. 3. Salg anses som en indsamling, når det i umiddelbar tilknytning til salget tilkendegives, at en del af købesummen går til et forud angivet formål.\n",
    "§ 2. Loven gælder ikke for følgende:\n",
    "1) Private indsamlinger, hvorved forstås indsamlinger, hvor opfordringen rettes til indsamlerens bekendte eller til personer, som har særlig tilknytning til indsamlingsformålet.\n",
    "2) Indsamlinger af brugte ting af ringe værdi.\n",
    "3) Indsamlinger, der udelukkende finder sted ved indendørs gudstjenester eller møder, og som forestås af vedkommende trossamfund eller mødearrangør.\n",
    "4) Indsamlinger foretaget blandt juridiske personer.\n",
    "5) Indsamlinger til støtte for politiske partier.\n",
    "6) Almennyttige lotterier.\n",
    "Stk. 2. Uanset stk. 1, nr. 5, må indsamlinger til støtte for politiske partier ikke finde sted som hus- og gadeindsamlinger.\n",
    "Kapitel 2\n",
    "Anmeldelsespligt m.v.\n",
    "§ 3. En indsamling skal anmeldes til Indsamlingsnævnet, inden indsamlingen iværksættes, jf. dog § 4, stk. 1. Ved anmeldelse af en indsamling skal formålet med indsamlingen anføres.\n",
    "Stk. 2. Når indsamlingen er afsluttet, skal der indsendes regnskab herfor til Indsamlingsnævnet, jf. dog § 4, stk. 1.\n",
    "§ 4. En organisation, der er godkendt af skatteministeren som berettiget til at modtage gaver, som kan fradrages ved indkomstopgørelsen, kan foretage indsamlinger uden anmeldelse og efterfølgende indsendelse af regnskab, hvis organisationen til Indsamlingsnævnet har indsendt oplysninger om\n",
    "1) navn og adresse på organisationen,\n",
    "2) på hvilken måde organisationen foretager indsamlinger, og\n",
    "3) til hvilke formål indsamlede midler anvendes.\n",
    "Stk. 2. Organisationen skal meddele Indsamlingsnævnet, hvis skatteministerens godkendelse nævnt i stk. 1 bortfalder, eller hvis forholdene omfattet af stk. 1, nr. 1-3, ændres.\n",
    "Stk. 3. Organisationen skal indsende årsregnskab til Indsamlingsnævnet.\n",
    "Stk. 4. Organisationen skal på en for offentligheden let tilgængelig måde oplyse, hvilke indsamlinger der er iværksat.\n",
    "Kapitel 3\n",
    "Hus- og gadeindsamling samt kædebreve\n",
    "§ 5. Husindsamling må ikke finde sted, jf. dog stk. 2.\n",
    "Stk. 2. Indsamlingsnævnet kan efter ansøgning meddele tilladelse for 3 år ad gangen til foretagelse af én årlig landsdækkende eller geografisk afgrænset husindsamling eller én enkeltstående husindsamling, som iværksættes på baggrund af en særlig begivenhed, hvis ansøgeren\n",
    "1) er omfattet af § 4, stk. 1,\n",
    "2) kan sandsynliggøre, at der ved indsamlingen indbringes et godt indsamlingsresultat, og\n",
    "3) har den fornødne folkelige forankring.\n",
    "Stk. 3. Tilladelse til husindsamling efter stk. 2 indebærer, at ansøgeren på dagen også kan foretage gadeindsamling.\n",
    "§ 6. Gadeindsamling må ikke finde sted, jf. dog stk. 2 og § 5, stk. 3.\n",
    "Stk. 2. Indsamlingsnævnet kan dog i særlige tilfælde efter ansøgning meddele tilladelse til foretagelse af gadeindsamling. Ansøgeren skal i forbindelse med ansøgningen opfylde betingelserne efter § 5, stk. 2, nr. 1-3.\n",
    "§ 7. Indsamling ved anvendelse af kædebreve må ikke finde sted.\n",
    "Kapitel 4\n",
    "God indsamlingsskik\n",
    "§ 8. Indsamlinger skal foregå i overensstemmelse med god indsamlingsskik.\n",
    "Stk. 2. Klage over overtrædelse af stk. 1 skal indgives til Indsamlingsnævnet.\n",
    "Kapitel 5\n",
    "Indsamlingsnævnet\n",
    "§ 9. Til varetagelse af opgaver efter denne lov oprettes der et indsamlingsnævn bestående af 1 formand og yderligere 4 medlemmer, som udpeges af justitsministeren. Formanden skal være jurist. 2 af de yderligere medlemmer beskikkes efter indstilling fra Indsamlingsorganisationernes Brancheorganisation, 1 medlem beskikkes efter indstilling fra Dansk Erhverv, og 1 medlem beskikkes efter indstilling fra Forbrugerrådet.\n",
    "Stk. 2. Medlemmerne og stedfortrædere for disse, der udpeges efter samme regler, beskikkes for 4 år. Genbeskikkelse kan finde sted.\n",
    "Stk. 3. Indsamlingsnævnets afgørelser kan ikke indbringes for anden administrativ myndighed.\n",
    "§ 10. Indsamlingsnævnet fører tilsyn med, at indsamlinger foretages i overensstemmelse med denne lov, og fører en offentligt tilgængelig fortegnelse over anmeldte indsamlinger, jf. § 3, stk. 1, og de organisationer, der er omfattet af § 4, stk. 1, samt godkendte indsamlinger, jf. § 5, stk. 2, og § 6, stk. 2. Nævnet offentliggør regnskaber for indsamlinger på nævnets hjemmeside.\n",
    "Stk. 2. Indsamlingsnævnet fører tilsyn med, at de indsamlede midler er anvendt i overensstemmelse med det formål, der er angivet i anmeldelsen, og at formålet er lovligt.\n",
    "Stk. 3. Indsamlingsnævnet træffer afgørelse i sager om\n",
    "1) tilladelse til foretagelse af husindsamlinger efter § 5, stk. 2, og gadeindsamlinger efter § 6, stk. 2,\n",
    "2) tilladelse til anvendelse af indsamlede midler til andre formål end angivet i anmeldelsen og\n",
    "3) overtrædelse af god indsamlingsskik, jf. § 8.\n",
    "Stk. 4. Indsamlingsnævnet kan af egen drift optage en sag til behandling.\n",
    "§ 11. Indsamlingsnævnet afgør, om en klage giver tilstrækkelig anledning til at iværksætte en nærmere undersøgelse.\n",
    "Stk. 2. Hvis en klage ikke giver Indsamlingsnævnet anledning til kritik, kan sagen afsluttes, uden at Indsamlingsnævnet forinden forelægger klagen for den indklagede.\n",
    "Stk. 3. Indsamlingsnævnet kan offentliggøre udtalelser af kritik samt pålægge en indsamler eller hjælpeorganisation at foretage offentliggørelse heraf.\n",
    "§ 12. Indsamlingsnævnet kan hos en indsamler eller hjælpeorganisation kræve yderligere oplysninger til belysning af en anmeldelse, afgørelse eller klage eller af, om et forhold giver anledning til nærmere undersøgelse.\n",
    "§ 13. Indsamlingsnævnet bistås af et sekretariat.\n",
    "Stk. 2. Justitsministeren fastsætter Indsamlingsnævnets forretningsorden efter forhandling med nævnet.\n",
    "Kapitel 6\n",
    "Betaling og bemyndigelse\n",
    "§ 14. Organisationer skal i forbindelse med indsamlinger omfattet af loven betale følgende:\n",
    "1) 1.000 kr. i forbindelse med indgivelse af anmeldelse om indsamling.\n",
    "2) 3.000 kr. årligt, hvis organisationen er omfattet af § 4, stk. 1.\n",
    "3) 45.000 kr. i forbindelse med indgivelse af ansøgning om en 3-årig tilladelse til landsdækkende husindsamling, jf. § 5, stk. 2.\n",
    "4) 22.500 kr. i forbindelse med indgivelse af ansøgning om regional husindsamling, jf. § 5, stk. 2.\n",
    "5) 15.000 kr. i forbindelse med indgivelse af ansøgning om enkeltstående husindsamling, jf. § 5, stk. 2.\n",
    "6) 6.000 kr. i forbindelse med indgivelse af ansøgning om landsdækkende gadeindsamling, jf. § 6, stk. 2.\n",
    "7) 3.000 kr. i forbindelse med indgivelse af ansøgning om regional gadeindsamling, jf. § 6, stk. 2.\n",
    "Stk. 2. Ansøgninger, jf. stk. 1, nr. 3-7, afvises, hvis betingelsen i stk. 1 ikke er opfyldt. Beløb efter stk. 1, nr. 3-7, tilbagebetales, hvis ansøgningen ikke imødekommes.\n",
    "Stk. 3. De beløb, der er angivet i stk. 1, reguleres årligt pr. 1. januar med 2,0 pct. tillagt tilpasningsprocenten for det pågældende finansår, jf. lov om en satsreguleringsprocent. De herefter fremkomne beløb afrundes til nærmeste med 100 delelige kronebeløb. Reguleringen sker på grundlag af de på reguleringstidspunktet gældende beløb før afrunding.\n",
    "Stk. 4. Indsamlingsnævnet offentliggør hvert år på nævnets hjemmeside de regulerede beløb, jf. stk. 3, for det kommende år.\n",
    "Stk. 5. Justitsministeren fastsætter nærmere regler om betaling af de beløb, der er angivet i stk. 1, nr. 1-7, og om tilbagebetaling heraf.\n",
    "§ 15. Justitsministeren fastsætter nærmere regler om fremgangsmåden ved indsamlinger og om den kontrol, som skal udøves med anvendelsen af de indsamlede midler. Justitsministeren fastsætter endvidere regler om, hvordan anmeldelse og indsendelse af regnskab skal ske. Justitsministeren fastsætter herudover nærmere regler om indhold og dokumentation i forbindelse med ansøgninger efter §§ 5 og 6.\n",
    "Stk. 2. Justitsministeren kan endvidere fastsætte, at Indsamlingsnævnet med henblik på offentliggørelse skal afgive en årlig redegørelse om sin virksomhed til justitsministeren.\n",
    "Kapitel 7\n",
    "Straf og ikrafttræden m.v.\n",
    "§ 16. Overtrædelse af § 2, stk. 2, § 3, stk. 1, § 5, stk. 1, § 6, stk. 1, og § 7 straffes med bøde, medmindre højere straf er forskyldt efter den øvrige lovgivning.\n",
    "Stk. 2. I forskrifter, der udfærdiges i medfør af § 15, kan der fastsættes straf af bøde for overtrædelse af bestemmelserne i forskrifterne.\n",
    "Stk. 3. Der kan pålægges selskaber m.v. (juridiske personer) strafansvar efter reglerne i straffelovens 5. kapitel.\n",
    "§ 17. Loven træder i kraft den 1. juni 2014, jf. dog stk. 2.\n",
    "Stk. 2. §§ 1-8, 10-12, 14 og 16 træder i kraft den 1. juli 2014.\n",
    "Stk. 3. Lov om offentlige indsamlinger og pyramidespil, jf. lovbekendtgørelse nr. 555 af 6. juni 2006, ophæves den 1. juli 2014.\n",
    "Stk. 4. Foreninger m.v., som inden den 1. juli 2014 har afholdt offentlig hus- og gadeindsamling i henhold til § 7, stk. 3 og 4, i lov om offentlige indsamlinger og pyramidespil, kan efter anmeldelse til Indsamlingsnævnet frem til den 1. juli 2017 foretage indsamling til samme formål og i samme form og udstrækning, hvortil tilladelse senest har været givet. De foreninger m.v., som vælger at benytte sig af muligheden for indsamling efter 1. pkt., vil ikke samtidig kunne meddeles tilladelse til husindsamling efter § 5, stk. 2. Anmeldelse efter 1. pkt. skal foretages senest den 1. januar 2015.\n",
    "Stk. 5. Organisationer, som driver projektaktiviteter i udviklingslandene på grundlag af en rammeaftale med Udenrigsministeriet, og som inden den 1. juli 2014 har afholdt landsdækkende offentlig hus- og gadeindsamling i henhold til § 7, stk. 5, i lov om offentlige indsamlinger og pyramidespil, kan efter anmeldelse til Indsamlingsnævnet frem til den 1. juli 2017 foretage en årlig landsdækkende hus- og gadeindsamling til sådanne projektaktiviteter. De organisationer, som vælger at benytte sig af muligheden for indsamling efter 1. pkt., vil ikke samtidig kunne meddeles tilladelse til husindsamling efter § 5, stk. 2. Anmeldelse efter 1. pkt. skal foretages senest den 1. januar 2015.\n",
    "§ 18. Loven gælder ikke for Færøerne og Grønland, men kan ved kongelig anordning sættes i kraft for Grønland med de ændringer, som de grønlandske forhold tilsiger.\n",
    "Givet på Christiansborg Slot, den 26. maj 2014\n",
    "Under Vor Kongelige Hånd og Segl\n",
    "MARGRETHE R.\n",
    "/ Karen Hækkerup\"\"\""
   ]
  },
  {
   "cell_type": "code",
   "execution_count": null,
   "metadata": {},
   "outputs": [],
   "source": [
    "class SlidingWindowChunking:\n",
    "    def __init__(self, window_size=100, step=50):\n",
    "        self.window_size = window_size\n",
    "        self.step = step\n",
    "\n",
    "    def chunk(self, text):\n",
    "        words = text.split()\n",
    "        chunks = []\n",
    "        for i in range(0, len(words) - self.window_size + 1, self.step):\n",
    "            chunks.append(' '.join(words[i:i + self.window_size]))\n",
    "        return chunks\n"
   ]
  },
  {
   "cell_type": "code",
   "execution_count": null,
   "metadata": {},
   "outputs": [],
   "source": [
    "from sentence_transformers import SentenceTransformer\n",
    "\n",
    "class CosineSimilarityExtractor:\n",
    "    def __init__(self, query):\n",
    "        self.query = query\n",
    "        self.model = SentenceTransformer(\"dilovancelik/all-distilroberta-v1_danish_law_fine_tune\")\n",
    "\n",
    "    def find_relevant_chunks(self, chunks):\n",
    "        vectors = self.model.encode([self.query] + chunks)\n",
    "        similarities = self.model.similarity(vectors[0:1], vectors[1:]).flatten()\n",
    "        return [(chunks[i], similarities[i]) for i in range(len(chunks))]\n",
    "\n",
    "# Example Workflow\n",
    "\n",
    "\n",
    "chunker = SlidingWindowChunking(window_size=100, step=50)\n",
    "chunks = chunker.chunk(text)\n",
    "query = \"Lav en liste over hvad Justitsministeren kan fastsætte, I den juridiske contexten indsamlinger?\"\n",
    "extractor = CosineSimilarityExtractor(query)\n",
    "relevant_chunks = extractor.find_relevant_chunks(chunks)\n",
    "final = \"\"\n",
    "for r,s in relevant_chunks:\n",
    "    if s > 0.2:\n",
    "        final += f\"{r}\\n\""
   ]
  },
  {
   "cell_type": "code",
   "execution_count": null,
   "metadata": {},
   "outputs": [],
   "source": [
    "print(final)"
   ]
  }
 ],
 "metadata": {
  "kernelspec": {
   "display_name": "ollama-deep-researcher-AmCmqQEy-py3.12",
   "language": "python",
   "name": "python3"
  },
  "language_info": {
   "codemirror_mode": {
    "name": "ipython",
    "version": 3
   },
   "file_extension": ".py",
   "mimetype": "text/x-python",
   "name": "python",
   "nbconvert_exporter": "python",
   "pygments_lexer": "ipython3",
   "version": "3.12.9"
  }
 },
 "nbformat": 4,
 "nbformat_minor": 2
}
