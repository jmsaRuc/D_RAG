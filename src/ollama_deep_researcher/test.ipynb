{
 "cells": [
  {
   "cell_type": "code",
   "execution_count": null,
   "metadata": {},
   "outputs": [],
   "source": [
    "!curl --request GET --url host.docker.internal:21434/api/tags"
   ]
  },
  {
   "cell_type": "code",
   "execution_count": null,
   "metadata": {},
   "outputs": [],
   "source": [
    "from langchain_ollama import ChatOllama\n",
    "\n",
    "### llm \n",
    "local_llm=\"deepseek-r1:1.5b-qwen-distill-fp16\"\n",
    "llm = ChatOllama(model=local_llm, temperature=0, base_url=\"http://host.docker.internal:21434\")\n",
    "llm_json = ChatOllama(model=local_llm, temperature=0, return_json=True, base_url=\"http://host.docker.internal:21434\")"
   ]
  },
  {
   "cell_type": "code",
   "execution_count": null,
   "metadata": {},
   "outputs": [],
   "source": [
    "msg = llm.invoke(\"What is the capital of France?\")\n",
    "msg.content"
   ]
  },
  {
   "cell_type": "markdown",
   "metadata": {},
   "source": [
    "__________________"
   ]
  },
  {
   "cell_type": "markdown",
   "metadata": {},
   "source": [
    "# GROQ test"
   ]
  },
  {
   "cell_type": "code",
   "execution_count": null,
   "metadata": {},
   "outputs": [],
   "source": [
    "import os\n",
    "\n",
    "from groq import Groq\n",
    "from dotenv import load_dotenv\n",
    "load_dotenv(\"../../groq.env\")\n"
   ]
  },
  {
   "cell_type": "code",
   "execution_count": null,
   "metadata": {},
   "outputs": [],
   "source": [
    "client = Groq(\n",
    "    # This is the default and can be omitted\n",
    "    api_key=os.getenv(\"GROQ_API_KEY\"),\n",
    ")"
   ]
  },
  {
   "cell_type": "code",
   "execution_count": null,
   "metadata": {},
   "outputs": [],
   "source": [
    "model_name = os.getenv(\"GROQ_LLM\")\n",
    "chat_completion = client.chat.completions.create(\n",
    "    messages=[\n",
    "        {\n",
    "            \"role\": \"system\",\n",
    "            \"content\": \"you are a helpful assistant.\"\n",
    "        },\n",
    "        {\n",
    "            \"role\": \"user\",\n",
    "            \"content\": \"Explain the importance of fast language models\",\n",
    "        }\n",
    "    ],\n",
    "    model=model_name,\n",
    "    reasoning_format={\"type\": \"groq\"},\n",
    "    temperature=0.6,\n",
    "    max_completion_tokens=131072,\n",
    "    top_p=0.95,\n",
    "    stream=True,\n",
    "    stop=None,\n",
    "    \n",
    ")"
   ]
  },
  {
   "cell_type": "code",
   "execution_count": null,
   "metadata": {},
   "outputs": [],
   "source": [
    "\n",
    "for chunk in chat_completion:\n",
    "    print(chunk.choices[0].delta.content or \"\", end=\"\")"
   ]
  },
  {
   "cell_type": "markdown",
   "metadata": {},
   "source": [
    "__________"
   ]
  },
  {
   "cell_type": "markdown",
   "metadata": {},
   "source": [
    "\n",
    "# GROQ langchain test"
   ]
  },
  {
   "cell_type": "code",
   "execution_count": 9,
   "metadata": {},
   "outputs": [],
   "source": [
    "import os\n",
    "from langchain_groq import ChatGroq\n",
    "from langchain_core.messages import HumanMessage, SystemMessage\n",
    "from ollama_deep_researcher.prompts import (\n",
    "    query_writer_instructions,\n",
    "    summarizer_instructions,\n",
    "    reflection_instructions,\n",
    "    get_current_date,\n",
    ")\n",
    "from dotenv import load_dotenv\n",
    "load_dotenv(\"../../groq.env\")\n",
    "os.environ[\"GROQ_API_KEY\"] = os.getenv(\"GROQ_API_KEY\")\n",
    "model_name = os.getenv(\"GROQ_LLM\")"
   ]
  },
  {
   "cell_type": "code",
   "execution_count": 10,
   "metadata": {},
   "outputs": [],
   "source": [
    "current_date = get_current_date()\n",
    "formatted_prompt = query_writer_instructions.format(\n",
    "        current_date=current_date, research_topic=\"fast language models\"\n",
    "    )"
   ]
  },
  {
   "cell_type": "code",
   "execution_count": 11,
   "metadata": {},
   "outputs": [
    {
     "name": "stderr",
     "output_type": "stream",
     "text": [
      "/home/jens/.cache/pypoetry/virtualenvs/ollama-deep-researcher-AmCmqQEy-py3.12/lib/python3.12/site-packages/langchain_groq/chat_models.py:364: UserWarning: WARNING! response_format is not default parameter.\n",
      "                    response_format was transferred to model_kwargs.\n",
      "                    Please confirm that response_format is what you intended.\n",
      "  warnings.warn(\n"
     ]
    }
   ],
   "source": [
    "llm = ChatGroq(\n",
    "    model=model_name,\n",
    "    temperature=0,\n",
    "    response_format={\"type\": \"json_object\"},\n",
    ")\n",
    "#llm_json_mode = llm.with_structured_output(method=\"json_mode\")"
   ]
  },
  {
   "cell_type": "code",
   "execution_count": null,
   "metadata": {},
   "outputs": [],
   "source": [
    "result = llm_json_mode.invoke(\n",
    "    [\n",
    "        SystemMessage(content=formatted_prompt),\n",
    "        HumanMessage(content=f\"Generate a query for web search:\"),\n",
    "    ]\n",
    ")"
   ]
  },
  {
   "cell_type": "code",
   "execution_count": 12,
   "metadata": {},
   "outputs": [],
   "source": [
    "result2 = llm.invoke(\n",
    "    [\n",
    "        SystemMessage(content=formatted_prompt),\n",
    "        HumanMessage(content=f\"Generate a query for web search:\"),\n",
    "    ]\n",
    ")"
   ]
  },
  {
   "cell_type": "code",
   "execution_count": 13,
   "metadata": {},
   "outputs": [
    {
     "name": "stdout",
     "output_type": "stream",
     "text": [
      "{    \"query\": \"recent advancements in optimizing language models for speed\",\n",
      "    \"rationale\": \"This query focuses on the latest developments in making language models faster, which is crucial for real-time applications and efficient processing.\"\n",
      "}\n"
     ]
    }
   ],
   "source": [
    "print(result2.content)"
   ]
  }
 ],
 "metadata": {
  "kernelspec": {
   "display_name": "ollama-deep-researcher-AmCmqQEy-py3.12",
   "language": "python",
   "name": "python3"
  },
  "language_info": {
   "codemirror_mode": {
    "name": "ipython",
    "version": 3
   },
   "file_extension": ".py",
   "mimetype": "text/x-python",
   "name": "python",
   "nbconvert_exporter": "python",
   "pygments_lexer": "ipython3",
   "version": "3.12.9"
  }
 },
 "nbformat": 4,
 "nbformat_minor": 2
}
