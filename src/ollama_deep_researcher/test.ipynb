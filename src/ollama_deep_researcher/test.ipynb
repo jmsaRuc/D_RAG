{
 "cells": [
  {
   "cell_type": "code",
   "execution_count": null,
   "metadata": {},
   "outputs": [],
   "source": [
    "!curl --request GET --url host.docker.internal:21434/api/tags"
   ]
  },
  {
   "cell_type": "code",
   "execution_count": null,
   "metadata": {},
   "outputs": [],
   "source": [
    "from langchain_ollama import ChatOllama\n",
    "\n",
    "### llm \n",
    "local_llm=\"deepseek-r1:1.5b-qwen-distill-fp16\"\n",
    "llm = ChatOllama(model=local_llm, temperature=0, base_url=\"http://host.docker.internal:21434\")\n",
    "llm_json = ChatOllama(model=local_llm, temperature=0, return_json=True, base_url=\"http://host.docker.internal:21434\")"
   ]
  },
  {
   "cell_type": "code",
   "execution_count": null,
   "metadata": {},
   "outputs": [],
   "source": [
    "msg = llm.invoke(\"What is the capital of France?\")\n",
    "msg.content"
   ]
  },
  {
   "cell_type": "markdown",
   "metadata": {},
   "source": [
    "__________________"
   ]
  },
  {
   "cell_type": "markdown",
   "metadata": {},
   "source": [
    "# GROQ test"
   ]
  },
  {
   "cell_type": "code",
   "execution_count": null,
   "metadata": {},
   "outputs": [],
   "source": [
    "import os\n",
    "\n",
    "from groq import Groq\n",
    "from dotenv import load_dotenv\n",
    "load_dotenv(\"../../groq.env\")\n"
   ]
  },
  {
   "cell_type": "code",
   "execution_count": null,
   "metadata": {},
   "outputs": [],
   "source": [
    "client = Groq(\n",
    "    # This is the default and can be omitted\n",
    "    api_key=os.getenv(\"GROQ_API_KEY\"),\n",
    ")"
   ]
  },
  {
   "cell_type": "code",
   "execution_count": null,
   "metadata": {},
   "outputs": [],
   "source": [
    "model_name = os.getenv(\"GROQ_LLM\")\n",
    "chat_completion = client.chat.completions.create(\n",
    "    messages=[\n",
    "        {\n",
    "            \"role\": \"system\",\n",
    "            \"content\": \"you are a helpful assistant.\"\n",
    "        },\n",
    "        {\n",
    "            \"role\": \"user\",\n",
    "            \"content\": \"Explain the importance of fast language models\",\n",
    "        }\n",
    "    ],\n",
    "    model=model_name,\n",
    "    reasoning_format={\"type\": \"groq\"},\n",
    "    temperature=0.6,\n",
    "    max_completion_tokens=131072,\n",
    "    top_p=0.95,\n",
    "    stream=True,\n",
    "    stop=None,\n",
    "    \n",
    ")"
   ]
  },
  {
   "cell_type": "code",
   "execution_count": null,
   "metadata": {},
   "outputs": [],
   "source": [
    "\n",
    "for chunk in chat_completion:\n",
    "    print(chunk.choices[0].delta.content or \"\", end=\"\")"
   ]
  },
  {
   "cell_type": "markdown",
   "metadata": {},
   "source": [
    "__________"
   ]
  },
  {
   "cell_type": "markdown",
   "metadata": {},
   "source": [
    "\n",
    "# GROQ langchain test"
   ]
  },
  {
   "cell_type": "code",
   "execution_count": null,
   "metadata": {},
   "outputs": [],
   "source": [
    "import os\n",
    "from langchain_groq import ChatGroq\n",
    "from langchain_core.messages import HumanMessage, SystemMessage\n",
    "from ollama_deep_researcher.prompts import (\n",
    "    query_writer_instructions,\n",
    "    summarizer_instructions,\n",
    "    reflection_instructions,\n",
    "    get_current_date,\n",
    ")\n",
    "from dotenv import load_dotenv\n",
    "load_dotenv(\"../../groq.env\")\n",
    "os.environ[\"GROQ_API_KEY\"] = os.getenv(\"GROQ_API_KEY\")\n",
    "model_name = os.getenv(\"GROQ_LLM\")"
   ]
  },
  {
   "cell_type": "code",
   "execution_count": null,
   "metadata": {},
   "outputs": [],
   "source": [
    "current_date = get_current_date()\n",
    "formatted_prompt = query_writer_instructions.format(\n",
    "        current_date=current_date, research_topic=\"fast language models\"\n",
    "    )"
   ]
  },
  {
   "cell_type": "code",
   "execution_count": null,
   "metadata": {},
   "outputs": [],
   "source": [
    "llm = ChatGroq(\n",
    "    model=model_name,\n",
    "    temperature=0,\n",
    "    response_format={\"type\": \"json_object\"},\n",
    ")\n",
    "#llm_json_mode = llm.with_structured_output(method=\"json_mode\")"
   ]
  },
  {
   "cell_type": "code",
   "execution_count": null,
   "metadata": {},
   "outputs": [],
   "source": [
    "result = llm_json_mode.invoke(\n",
    "    [\n",
    "        SystemMessage(content=formatted_prompt),\n",
    "        HumanMessage(content=f\"Generate a query for web search:\"),\n",
    "    ]\n",
    ")"
   ]
  },
  {
   "cell_type": "code",
   "execution_count": null,
   "metadata": {},
   "outputs": [],
   "source": [
    "result2 = llm.invoke(\n",
    "    [\n",
    "        SystemMessage(content=formatted_prompt),\n",
    "        HumanMessage(content=f\"Generate a query for web search:\"),\n",
    "    ]\n",
    ")"
   ]
  },
  {
   "cell_type": "code",
   "execution_count": null,
   "metadata": {},
   "outputs": [],
   "source": [
    "print(result2.content)"
   ]
  },
  {
   "cell_type": "markdown",
   "metadata": {},
   "source": [
    "_____"
   ]
  },
  {
   "cell_type": "markdown",
   "metadata": {},
   "source": [
    "# tavily test (Used for making the crawler search)"
   ]
  },
  {
   "cell_type": "code",
   "execution_count": null,
   "metadata": {},
   "outputs": [],
   "source": [
    "import os\n",
    "from ollama_deep_researcher.utils import (\n",
    "    deduplicate_and_format_sources,\n",
    "    tavily_search,\n",
    "    format_sources,\n",
    ")\n",
    "from dotenv import load_dotenv\n",
    "load_dotenv(\"../../.env\")\n",
    "os.environ[\"TAVILY_API_KEY\"] = os.getenv(\"TAVILY_API_KEY\")"
   ]
  },
  {
   "cell_type": "code",
   "execution_count": null,
   "metadata": {},
   "outputs": [],
   "source": [
    "search_results = tavily_search(\"what is the capital of France?\", fetch_full_page=True, max_results=3)"
   ]
  },
  {
   "cell_type": "code",
   "execution_count": null,
   "metadata": {},
   "outputs": [],
   "source": [
    "search_results"
   ]
  },
  {
   "cell_type": "code",
   "execution_count": null,
   "metadata": {},
   "outputs": [],
   "source": [
    "search_str = deduplicate_and_format_sources(\n",
    "            search_results,\n",
    "            max_tokens_per_source=10000000,\n",
    "            fetch_full_page=True,\n",
    "        )"
   ]
  },
  {
   "cell_type": "code",
   "execution_count": null,
   "metadata": {},
   "outputs": [],
   "source": [
    "print(search_str)"
   ]
  },
  {
   "cell_type": "markdown",
   "metadata": {},
   "source": [
    "_______"
   ]
  },
  {
   "cell_type": "markdown",
   "metadata": {},
   "source": [
    "# Test rets_info_scraper"
   ]
  },
  {
   "cell_type": "code",
   "execution_count": 3,
   "metadata": {},
   "outputs": [],
   "source": [
    "from ollama_deep_researcher.retsinfo_crawl import retsinfo_search_and_crawl, retsinfo_search, extract_ids"
   ]
  },
  {
   "cell_type": "code",
   "execution_count": null,
   "metadata": {},
   "outputs": [],
   "source": [
    "if __name__ == \"__main__\":\n",
    "    search_r = await retsinfo_search(\"Justitsministerens beføjelser til fastsættelse af regler for indsamlinger\", max_results=3)"
   ]
  },
  {
   "cell_type": "code",
   "execution_count": null,
   "metadata": {},
   "outputs": [],
   "source": [
    "search_r"
   ]
  },
  {
   "cell_type": "code",
   "execution_count": null,
   "metadata": {},
   "outputs": [],
   "source": [
    "if __name__ == \"__main__\":\n",
    "    id_url_pari = await extract_ids(search_r)"
   ]
  },
  {
   "cell_type": "code",
   "execution_count": null,
   "metadata": {},
   "outputs": [],
   "source": [
    "id_url_pari"
   ]
  },
  {
   "cell_type": "code",
   "execution_count": 4,
   "metadata": {},
   "outputs": [
    {
     "name": "stdout",
     "output_type": "stream",
     "text": [
      "https://www.retsinformation.dk/eli/lta/2006/542 crawled OK!\n",
      "https://www.retsinformation.dk/eli/lta/2018/1706 crawled OK!\n",
      "https://www.retsinformation.dk/eli/lta/2014/511 crawled OK!\n",
      "https://www.retsinformation.dk/eli/lta/2014/895 crawled OK!\n",
      "https://www.retsinformation.dk/eli/lta/2020/1035 crawled OK!\n",
      "https://www.retsinformation.dk/eli/lta/2019/81 crawled OK!\n",
      "https://www.retsinformation.dk/eli/lta/2021/2166 crawled OK!\n",
      "https://www.retsinformation.dk/eli/lta/2020/160 crawled OK!\n",
      "https://www.retsinformation.dk/eli/lta/2021/1321 crawled OK!\n",
      "https://www.retsinformation.dk/eli/lta/2020/105 crawled OK!\n",
      "https://www.retsinformation.dk/eli/lta/2017/231 crawled OK!\n",
      "https://www.retsinformation.dk/eli/lta/2017/1287 crawled OK!\n",
      "https://www.retsinformation.dk/eli/lta/2017/671 crawled OK!\n",
      "https://www.retsinformation.dk/eli/lta/2023/743 crawled OK!\n",
      "https://www.retsinformation.dk/eli/lta/2025/285 crawled OK!\n",
      "https://www.retsinformation.dk/eli/retsinfo/2015/11060 crawled OK!\n",
      "https://www.retsinformation.dk/eli/lta/2025/431 crawled OK!\n",
      "https://www.retsinformation.dk/eli/lta/2021/2601 crawled OK!\n",
      "https://www.retsinformation.dk/eli/lta/2024/118 crawled OK!\n",
      "https://www.retsinformation.dk/eli/lta/2022/29 crawled OK!\n",
      "https://www.retsinformation.dk/eli/retsinfo/2016/10487 crawled OK!\n",
      "https://www.retsinformation.dk/eli/retsinfo/2015/11372 crawled OK!\n",
      "https://www.retsinformation.dk/eli/retsinfo/2016/10488 crawled OK!\n",
      "https://www.retsinformation.dk/eli/retsinfo/2015/11371 crawled OK!\n",
      "https://www.retsinformation.dk/eli/retsinfo/2016/10486 crawled OK!\n",
      "https://www.retsinformation.dk/eli/retsinfo/2017/9228 crawled OK!\n",
      "https://www.retsinformation.dk/eli/retsinfo/2016/9793 crawled OK!\n",
      "https://www.retsinformation.dk/eli/retsinfo/2017/9978 crawled OK!\n",
      "https://www.retsinformation.dk/eli/retsinfo/2018/9140 crawled OK!\n",
      "https://www.retsinformation.dk/eli/retsinfo/2017/9234 crawled OK!\n",
      "https://www.retsinformation.dk/eli/retsinfo/2017/9232 crawled OK!\n",
      "https://www.retsinformation.dk/eli/retsinfo/2018/9142 crawled OK!\n",
      "https://www.retsinformation.dk/eli/retsinfo/2018/9141 crawled OK!\n",
      "https://www.retsinformation.dk/eli/retsinfo/2017/9233 crawled OK!\n",
      "https://www.retsinformation.dk/eli/retsinfo/2017/9979 crawled OK!\n"
     ]
    }
   ],
   "source": [
    "if __name__ == \"__main__\":\n",
    "    # Load environment variables from .env file\n",
    "   result = await retsinfo_search_and_crawl(query=\"Justitsministerens beføjelser til fastsættelse af regler for indsamlinger\", max_results=3, crawler_base_url=\"http://localhost:11235\")\n",
    "\n",
    "    "
   ]
  }
 ],
 "metadata": {
  "kernelspec": {
   "display_name": "ollama-deep-researcher-AmCmqQEy-py3.12",
   "language": "python",
   "name": "python3"
  },
  "language_info": {
   "codemirror_mode": {
    "name": "ipython",
    "version": 3
   },
   "file_extension": ".py",
   "mimetype": "text/x-python",
   "name": "python",
   "nbconvert_exporter": "python",
   "pygments_lexer": "ipython3",
   "version": "3.12.9"
  }
 },
 "nbformat": 4,
 "nbformat_minor": 2
}
