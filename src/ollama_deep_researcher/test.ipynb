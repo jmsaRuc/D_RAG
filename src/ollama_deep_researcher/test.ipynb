{
 "cells": [
  {
   "cell_type": "code",
   "execution_count": 19,
   "metadata": {},
   "outputs": [
    {
     "name": "stdout",
     "output_type": "stream",
     "text": [
      "{\"models\":[{\"name\":\"deepseek-r1:1.5b-qwen-distill-q8_0\",\"model\":\"deepseek-r1:1.5b-qwen-distill-q8_0\",\"modified_at\":\"2025-04-05T15:03:36.61991409Z\",\"size\":1894533989,\"digest\":\"be5781997fd90498feb144d7d9628b94ca05e2d189a1207b3911094be9474c92\",\"details\":{\"parent_model\":\"\",\"format\":\"gguf\",\"family\":\"qwen2\",\"families\":[\"qwen2\"],\"parameter_size\":\"1.8B\",\"quantization_level\":\"Q8_0\"}},{\"name\":\"deepseek-r1:1.5b-qwen-distill-fp16\",\"model\":\"deepseek-r1:1.5b-qwen-distill-fp16\",\"modified_at\":\"2025-04-05T11:03:50.228974457Z\",\"size\":3560418148,\"digest\":\"b3e50d21d5a94f7c1bc7aedf308aca14be898894a6c286d7b453c8d9e2dda459\",\"details\":{\"parent_model\":\"\",\"format\":\"gguf\",\"family\":\"qwen2\",\"families\":[\"qwen2\"],\"parameter_size\":\"1.8B\",\"quantization_level\":\"F16\"}}]}"
     ]
    }
   ],
   "source": [
    "!curl --request GET --url host.docker.internal:21434/api/tags"
   ]
  },
  {
   "cell_type": "code",
   "execution_count": 20,
   "metadata": {},
   "outputs": [],
   "source": [
    "from langchain_ollama import ChatOllama\n",
    "\n",
    "### llm \n",
    "local_llm=\"deepseek-r1:1.5b-qwen-distill-fp16\"\n",
    "llm = ChatOllama(model=local_llm, temperature=0, base_url=\"http://host.docker.internal:21434\")\n",
    "llm_json = ChatOllama(model=local_llm, temperature=0, return_json=True, base_url=\"http://host.docker.internal:21434\")"
   ]
  },
  {
   "cell_type": "code",
   "execution_count": 21,
   "metadata": {},
   "outputs": [
    {
     "data": {
      "text/plain": [
       "'<think>\\n\\n</think>\\n\\nThe capital of France is Paris.'"
      ]
     },
     "execution_count": 21,
     "metadata": {},
     "output_type": "execute_result"
    }
   ],
   "source": [
    "msg = llm.invoke(\"What is the capital of France?\")\n",
    "msg.content"
   ]
  }
 ],
 "metadata": {
  "kernelspec": {
   "display_name": "ollama-deep-researcher-2ZQQVbjY-py3.12",
   "language": "python",
   "name": "python3"
  },
  "language_info": {
   "codemirror_mode": {
    "name": "ipython",
    "version": 3
   },
   "file_extension": ".py",
   "mimetype": "text/x-python",
   "name": "python",
   "nbconvert_exporter": "python",
   "pygments_lexer": "ipython3",
   "version": "3.12.9"
  }
 },
 "nbformat": 4,
 "nbformat_minor": 2
}
